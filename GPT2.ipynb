{
  "cells": [
    {
      "cell_type": "markdown",
      "metadata": {
        "id": "76U9TxO48-or"
      },
      "source": [
        "# **GPT2 algorithm implementation**\n",
        "# **Disaster Tweet from Kaggle**\n",
        "\n",
        "This is the implementation of GPT2 for sentiment analysis. Just as a reminder, GPT2 was developed for text generation but it can be used for other applications. "
      ]
    },
    {
      "cell_type": "code",
      "execution_count": null,
      "metadata": {
        "colab": {
          "base_uri": "https://localhost:8080/"
        },
        "id": "2o-rLzM85PrR",
        "outputId": "7fa40990-bd60-4874-caa7-44d2a39efa0c"
      },
      "outputs": [
        {
          "output_type": "stream",
          "name": "stdout",
          "text": [
            "Looking in indexes: https://pypi.org/simple, https://us-python.pkg.dev/colab-wheels/public/simple/\n",
            "Requirement already satisfied: unidecode in /usr/local/lib/python3.8/dist-packages (1.3.6)\n",
            "Requirement already satisfied: transformers in /usr/local/lib/python3.8/dist-packages (4.26.0)\n",
            "Requirement already satisfied: ml_things in /usr/local/lib/python3.8/dist-packages (0.0.1)\n",
            "Requirement already satisfied: pyyaml>=5.1 in /usr/local/lib/python3.8/dist-packages (from transformers) (6.0)\n",
            "Requirement already satisfied: numpy>=1.17 in /usr/local/lib/python3.8/dist-packages (from transformers) (1.21.6)\n",
            "Requirement already satisfied: tqdm>=4.27 in /usr/local/lib/python3.8/dist-packages (from transformers) (4.64.1)\n",
            "Requirement already satisfied: requests in /usr/local/lib/python3.8/dist-packages (from transformers) (2.25.1)\n",
            "Requirement already satisfied: huggingface-hub<1.0,>=0.11.0 in /usr/local/lib/python3.8/dist-packages (from transformers) (0.12.0)\n",
            "Requirement already satisfied: packaging>=20.0 in /usr/local/lib/python3.8/dist-packages (from transformers) (23.0)\n",
            "Requirement already satisfied: regex!=2019.12.17 in /usr/local/lib/python3.8/dist-packages (from transformers) (2022.6.2)\n",
            "Requirement already satisfied: tokenizers!=0.11.3,<0.14,>=0.11.1 in /usr/local/lib/python3.8/dist-packages (from transformers) (0.13.2)\n",
            "Requirement already satisfied: filelock in /usr/local/lib/python3.8/dist-packages (from transformers) (3.9.0)\n",
            "Requirement already satisfied: matplotlib>=3.4.0 in /usr/local/lib/python3.8/dist-packages (from ml_things) (3.6.3)\n",
            "Requirement already satisfied: scikit-learn in /usr/local/lib/python3.8/dist-packages (from ml_things) (1.0.2)\n",
            "Requirement already satisfied: ftfy>=5.8 in /usr/local/lib/python3.8/dist-packages (from ml_things) (6.1.1)\n",
            "Requirement already satisfied: wcwidth>=0.2.5 in /usr/local/lib/python3.8/dist-packages (from ftfy>=5.8->ml_things) (0.2.6)\n",
            "Requirement already satisfied: typing-extensions>=3.7.4.3 in /usr/local/lib/python3.8/dist-packages (from huggingface-hub<1.0,>=0.11.0->transformers) (4.4.0)\n",
            "Requirement already satisfied: python-dateutil>=2.7 in /usr/local/lib/python3.8/dist-packages (from matplotlib>=3.4.0->ml_things) (2.8.2)\n",
            "Requirement already satisfied: pillow>=6.2.0 in /usr/local/lib/python3.8/dist-packages (from matplotlib>=3.4.0->ml_things) (7.1.2)\n",
            "Requirement already satisfied: cycler>=0.10 in /usr/local/lib/python3.8/dist-packages (from matplotlib>=3.4.0->ml_things) (0.11.0)\n",
            "Requirement already satisfied: contourpy>=1.0.1 in /usr/local/lib/python3.8/dist-packages (from matplotlib>=3.4.0->ml_things) (1.0.7)\n",
            "Requirement already satisfied: pyparsing>=2.2.1 in /usr/local/lib/python3.8/dist-packages (from matplotlib>=3.4.0->ml_things) (3.0.9)\n",
            "Requirement already satisfied: kiwisolver>=1.0.1 in /usr/local/lib/python3.8/dist-packages (from matplotlib>=3.4.0->ml_things) (1.4.4)\n",
            "Requirement already satisfied: fonttools>=4.22.0 in /usr/local/lib/python3.8/dist-packages (from matplotlib>=3.4.0->ml_things) (4.38.0)\n",
            "Requirement already satisfied: urllib3<1.27,>=1.21.1 in /usr/local/lib/python3.8/dist-packages (from requests->transformers) (1.24.3)\n",
            "Requirement already satisfied: chardet<5,>=3.0.2 in /usr/local/lib/python3.8/dist-packages (from requests->transformers) (4.0.0)\n",
            "Requirement already satisfied: certifi>=2017.4.17 in /usr/local/lib/python3.8/dist-packages (from requests->transformers) (2022.12.7)\n",
            "Requirement already satisfied: idna<3,>=2.5 in /usr/local/lib/python3.8/dist-packages (from requests->transformers) (2.10)\n",
            "Requirement already satisfied: joblib>=0.11 in /usr/local/lib/python3.8/dist-packages (from scikit-learn->ml_things) (1.2.0)\n",
            "Requirement already satisfied: scipy>=1.1.0 in /usr/local/lib/python3.8/dist-packages (from scikit-learn->ml_things) (1.7.3)\n",
            "Requirement already satisfied: threadpoolctl>=2.0.0 in /usr/local/lib/python3.8/dist-packages (from scikit-learn->ml_things) (3.1.0)\n",
            "Requirement already satisfied: six>=1.5 in /usr/local/lib/python3.8/dist-packages (from python-dateutil>=2.7->matplotlib>=3.4.0->ml_things) (1.15.0)\n"
          ]
        }
      ],
      "source": [
        "! pip install unidecode transformers ml_things "
      ]
    },
    {
      "cell_type": "markdown",
      "metadata": {
        "id": "yKb6lX6LELai"
      },
      "source": [
        "## Importing python libraries"
      ]
    },
    {
      "cell_type": "code",
      "execution_count": null,
      "metadata": {
        "id": "FlpR-tni0teH",
        "colab": {
          "base_uri": "https://localhost:8080/",
          "height": 375
        },
        "outputId": "cb2dda11-8366-4c19-df9f-ab79df59110b"
      },
      "outputs": [
        {
          "output_type": "error",
          "ename": "ModuleNotFoundError",
          "evalue": "ignored",
          "traceback": [
            "\u001b[0;31m---------------------------------------------------------------------------\u001b[0m",
            "\u001b[0;31mModuleNotFoundError\u001b[0m                       Traceback (most recent call last)",
            "\u001b[0;32m<ipython-input-38-ee2cfd567c9e>\u001b[0m in \u001b[0;36m<module>\u001b[0;34m\u001b[0m\n\u001b[1;32m      3\u001b[0m \u001b[0;32mimport\u001b[0m \u001b[0mtime\u001b[0m\u001b[0;34m\u001b[0m\u001b[0;34m\u001b[0m\u001b[0m\n\u001b[1;32m      4\u001b[0m \u001b[0;32mimport\u001b[0m \u001b[0mtorch\u001b[0m\u001b[0;34m\u001b[0m\u001b[0;34m\u001b[0m\u001b[0m\n\u001b[0;32m----> 5\u001b[0;31m \u001b[0;32mfrom\u001b[0m \u001b[0mcleantext\u001b[0m \u001b[0;32mimport\u001b[0m \u001b[0mclean\u001b[0m\u001b[0;34m\u001b[0m\u001b[0;34m\u001b[0m\u001b[0m\n\u001b[0m\u001b[1;32m      6\u001b[0m \u001b[0;32mimport\u001b[0m \u001b[0mstring\u001b[0m\u001b[0;34m\u001b[0m\u001b[0;34m\u001b[0m\u001b[0m\n\u001b[1;32m      7\u001b[0m \u001b[0;32mimport\u001b[0m \u001b[0munidecode\u001b[0m\u001b[0;34m\u001b[0m\u001b[0;34m\u001b[0m\u001b[0m\n",
            "\u001b[0;31mModuleNotFoundError\u001b[0m: No module named 'cleantext'",
            "",
            "\u001b[0;31m---------------------------------------------------------------------------\u001b[0;32m\nNOTE: If your import is failing due to a missing package, you can\nmanually install dependencies using either !pip or !apt.\n\nTo view examples of installing some common dependencies, click the\n\"Open Examples\" button below.\n\u001b[0;31m---------------------------------------------------------------------------\u001b[0m\n"
          ],
          "errorDetails": {
            "actions": [
              {
                "action": "open_url",
                "actionText": "Open Examples",
                "url": "/notebooks/snippets/importing_libraries.ipynb"
              }
            ]
          }
        }
      ],
      "source": [
        "import re\n",
        "import nltk\n",
        "import time\n",
        "import torch\n",
        "from cleantext import clean\n",
        "import string\n",
        "import unidecode\n",
        "import numpy as np\n",
        "import pandas as pd\n",
        "import torch.nn as nn\n",
        "import matplotlib.pyplot as plt\n",
        "from nltk.corpus import stopwords\n",
        "from nltk.tokenize import word_tokenize\n",
        "from nltk.stem import WordNetLemmatizer\n",
        "from sklearn.model_selection import train_test_split\n",
        "from torch.utils.data import Dataset, DataLoader, Dataset\n",
        "from ml_things import plot_dict, plot_confusion_matrix, fix_text\n",
        "from sklearn.metrics import classification_report, accuracy_score\n",
        "from transformers import set_seed, DataCollatorWithPadding, AdamW, GPT2ForSequenceClassification, GPT2Config, GPT2Tokenizer, get_linear_schedule_with_warmup"
      ]
    },
    {
      "cell_type": "markdown",
      "metadata": {
        "id": "8TQjnyEHEQ8a"
      },
      "source": [
        "## Defining a random seed to ensure that the notebook can always reproduce the same results"
      ]
    },
    {
      "cell_type": "code",
      "execution_count": null,
      "metadata": {
        "id": "849fRQUN6n-k"
      },
      "outputs": [],
      "source": [
        "set_seed(1)"
      ]
    },
    {
      "cell_type": "code",
      "execution_count": null,
      "metadata": {
        "id": "C6vixUIH5j8r"
      },
      "outputs": [],
      "source": [
        "pd.set_option('display.max_colwidth', 150)"
      ]
    },
    {
      "cell_type": "code",
      "execution_count": null,
      "metadata": {
        "colab": {
          "base_uri": "https://localhost:8080/"
        },
        "id": "jzruTnmQ5mbd",
        "outputId": "67a9cdd2-8f6c-472d-beec-3fe8948d9c9e"
      },
      "outputs": [
        {
          "output_type": "stream",
          "name": "stderr",
          "text": [
            "[nltk_data] Downloading package punkt to /root/nltk_data...\n",
            "[nltk_data]   Package punkt is already up-to-date!\n",
            "[nltk_data] Downloading package stopwords to /root/nltk_data...\n",
            "[nltk_data]   Package stopwords is already up-to-date!\n",
            "[nltk_data] Downloading package wordnet to /root/nltk_data...\n",
            "[nltk_data]   Package wordnet is already up-to-date!\n",
            "[nltk_data] Downloading package omw-1.4 to /root/nltk_data...\n",
            "[nltk_data]   Package omw-1.4 is already up-to-date!\n"
          ]
        },
        {
          "output_type": "execute_result",
          "data": {
            "text/plain": [
              "True"
            ]
          },
          "metadata": {},
          "execution_count": 5
        }
      ],
      "source": [
        "nltk.download(['punkt', 'stopwords', 'wordnet', 'omw-1.4'])"
      ]
    },
    {
      "cell_type": "code",
      "execution_count": null,
      "metadata": {
        "colab": {
          "base_uri": "https://localhost:8080/"
        },
        "id": "i1By3rMd3esW",
        "outputId": "ccae67bc-a7c0-4b81-ee5f-f2b743580597"
      },
      "outputs": [
        {
          "output_type": "stream",
          "name": "stdout",
          "text": [
            "Drive already mounted at /content/drive; to attempt to forcibly remount, call drive.mount(\"/content/drive\", force_remount=True).\n"
          ]
        }
      ],
      "source": [
        "from google.colab import drive\n",
        "drive.mount('/content/drive')"
      ]
    },
    {
      "cell_type": "code",
      "execution_count": null,
      "metadata": {
        "id": "Lw9qwqlJyvxB"
      },
      "outputs": [],
      "source": [
        "train = pd.read_csv('/content/drive/MyDrive/disaster_tweets/train.csv')\n",
        "test = pd.read_csv('/content/drive/MyDrive/disaster_tweets/test.csv')"
      ]
    },
    {
      "cell_type": "code",
      "execution_count": null,
      "metadata": {
        "colab": {
          "base_uri": "https://localhost:8080/",
          "height": 112
        },
        "id": "wCMJtk-1yx3e",
        "outputId": "fd2351a4-0656-443e-a9ea-60ff67927c74"
      },
      "outputs": [
        {
          "output_type": "execute_result",
          "data": {
            "text/plain": [
              "   id keyword location  \\\n",
              "0   1     NaN      NaN   \n",
              "1   4     NaN      NaN   \n",
              "\n",
              "                                                                    text  \\\n",
              "0  Our Deeds are the Reason of this #earthquake May ALLAH Forgive us all   \n",
              "1                                 Forest fire near La Ronge Sask. Canada   \n",
              "\n",
              "   target  \n",
              "0       1  \n",
              "1       1  "
            ],
            "text/html": [
              "\n",
              "  <div id=\"df-11cd49b7-d2a1-4255-9e31-8e52c2e720d2\">\n",
              "    <div class=\"colab-df-container\">\n",
              "      <div>\n",
              "<style scoped>\n",
              "    .dataframe tbody tr th:only-of-type {\n",
              "        vertical-align: middle;\n",
              "    }\n",
              "\n",
              "    .dataframe tbody tr th {\n",
              "        vertical-align: top;\n",
              "    }\n",
              "\n",
              "    .dataframe thead th {\n",
              "        text-align: right;\n",
              "    }\n",
              "</style>\n",
              "<table border=\"1\" class=\"dataframe\">\n",
              "  <thead>\n",
              "    <tr style=\"text-align: right;\">\n",
              "      <th></th>\n",
              "      <th>id</th>\n",
              "      <th>keyword</th>\n",
              "      <th>location</th>\n",
              "      <th>text</th>\n",
              "      <th>target</th>\n",
              "    </tr>\n",
              "  </thead>\n",
              "  <tbody>\n",
              "    <tr>\n",
              "      <th>0</th>\n",
              "      <td>1</td>\n",
              "      <td>NaN</td>\n",
              "      <td>NaN</td>\n",
              "      <td>Our Deeds are the Reason of this #earthquake May ALLAH Forgive us all</td>\n",
              "      <td>1</td>\n",
              "    </tr>\n",
              "    <tr>\n",
              "      <th>1</th>\n",
              "      <td>4</td>\n",
              "      <td>NaN</td>\n",
              "      <td>NaN</td>\n",
              "      <td>Forest fire near La Ronge Sask. Canada</td>\n",
              "      <td>1</td>\n",
              "    </tr>\n",
              "  </tbody>\n",
              "</table>\n",
              "</div>\n",
              "      <button class=\"colab-df-convert\" onclick=\"convertToInteractive('df-11cd49b7-d2a1-4255-9e31-8e52c2e720d2')\"\n",
              "              title=\"Convert this dataframe to an interactive table.\"\n",
              "              style=\"display:none;\">\n",
              "        \n",
              "  <svg xmlns=\"http://www.w3.org/2000/svg\" height=\"24px\"viewBox=\"0 0 24 24\"\n",
              "       width=\"24px\">\n",
              "    <path d=\"M0 0h24v24H0V0z\" fill=\"none\"/>\n",
              "    <path d=\"M18.56 5.44l.94 2.06.94-2.06 2.06-.94-2.06-.94-.94-2.06-.94 2.06-2.06.94zm-11 1L8.5 8.5l.94-2.06 2.06-.94-2.06-.94L8.5 2.5l-.94 2.06-2.06.94zm10 10l.94 2.06.94-2.06 2.06-.94-2.06-.94-.94-2.06-.94 2.06-2.06.94z\"/><path d=\"M17.41 7.96l-1.37-1.37c-.4-.4-.92-.59-1.43-.59-.52 0-1.04.2-1.43.59L10.3 9.45l-7.72 7.72c-.78.78-.78 2.05 0 2.83L4 21.41c.39.39.9.59 1.41.59.51 0 1.02-.2 1.41-.59l7.78-7.78 2.81-2.81c.8-.78.8-2.07 0-2.86zM5.41 20L4 18.59l7.72-7.72 1.47 1.35L5.41 20z\"/>\n",
              "  </svg>\n",
              "      </button>\n",
              "      \n",
              "  <style>\n",
              "    .colab-df-container {\n",
              "      display:flex;\n",
              "      flex-wrap:wrap;\n",
              "      gap: 12px;\n",
              "    }\n",
              "\n",
              "    .colab-df-convert {\n",
              "      background-color: #E8F0FE;\n",
              "      border: none;\n",
              "      border-radius: 50%;\n",
              "      cursor: pointer;\n",
              "      display: none;\n",
              "      fill: #1967D2;\n",
              "      height: 32px;\n",
              "      padding: 0 0 0 0;\n",
              "      width: 32px;\n",
              "    }\n",
              "\n",
              "    .colab-df-convert:hover {\n",
              "      background-color: #E2EBFA;\n",
              "      box-shadow: 0px 1px 2px rgba(60, 64, 67, 0.3), 0px 1px 3px 1px rgba(60, 64, 67, 0.15);\n",
              "      fill: #174EA6;\n",
              "    }\n",
              "\n",
              "    [theme=dark] .colab-df-convert {\n",
              "      background-color: #3B4455;\n",
              "      fill: #D2E3FC;\n",
              "    }\n",
              "\n",
              "    [theme=dark] .colab-df-convert:hover {\n",
              "      background-color: #434B5C;\n",
              "      box-shadow: 0px 1px 3px 1px rgba(0, 0, 0, 0.15);\n",
              "      filter: drop-shadow(0px 1px 2px rgba(0, 0, 0, 0.3));\n",
              "      fill: #FFFFFF;\n",
              "    }\n",
              "  </style>\n",
              "\n",
              "      <script>\n",
              "        const buttonEl =\n",
              "          document.querySelector('#df-11cd49b7-d2a1-4255-9e31-8e52c2e720d2 button.colab-df-convert');\n",
              "        buttonEl.style.display =\n",
              "          google.colab.kernel.accessAllowed ? 'block' : 'none';\n",
              "\n",
              "        async function convertToInteractive(key) {\n",
              "          const element = document.querySelector('#df-11cd49b7-d2a1-4255-9e31-8e52c2e720d2');\n",
              "          const dataTable =\n",
              "            await google.colab.kernel.invokeFunction('convertToInteractive',\n",
              "                                                     [key], {});\n",
              "          if (!dataTable) return;\n",
              "\n",
              "          const docLinkHtml = 'Like what you see? Visit the ' +\n",
              "            '<a target=\"_blank\" href=https://colab.research.google.com/notebooks/data_table.ipynb>data table notebook</a>'\n",
              "            + ' to learn more about interactive tables.';\n",
              "          element.innerHTML = '';\n",
              "          dataTable['output_type'] = 'display_data';\n",
              "          await google.colab.output.renderOutput(dataTable, element);\n",
              "          const docLink = document.createElement('div');\n",
              "          docLink.innerHTML = docLinkHtml;\n",
              "          element.appendChild(docLink);\n",
              "        }\n",
              "      </script>\n",
              "    </div>\n",
              "  </div>\n",
              "  "
            ]
          },
          "metadata": {},
          "execution_count": 8
        }
      ],
      "source": [
        "train.head(2)"
      ]
    },
    {
      "cell_type": "code",
      "execution_count": null,
      "metadata": {
        "colab": {
          "base_uri": "https://localhost:8080/"
        },
        "id": "G3PKxsijyx6O",
        "outputId": "41ec0fd3-fc0c-45a4-ade8-c483e1dd8d48"
      },
      "outputs": [
        {
          "output_type": "stream",
          "name": "stdout",
          "text": [
            "Using device: cuda\n"
          ]
        }
      ],
      "source": [
        "device = torch.device('cuda' if torch.cuda.is_available() else 'cpu')\n",
        "print('Using device:', device)"
      ]
    },
    {
      "cell_type": "code",
      "execution_count": null,
      "metadata": {
        "colab": {
          "base_uri": "https://localhost:8080/"
        },
        "id": "jrBNsXqgyx9N",
        "outputId": "4d12fed0-4fc5-4260-b61b-dfa187790b31"
      },
      "outputs": [
        {
          "output_type": "stream",
          "name": "stdout",
          "text": [
            "Wed Feb  8 00:04:33 2023       \n",
            "+-----------------------------------------------------------------------------+\n",
            "| NVIDIA-SMI 510.47.03    Driver Version: 510.47.03    CUDA Version: 11.6     |\n",
            "|-------------------------------+----------------------+----------------------+\n",
            "| GPU  Name        Persistence-M| Bus-Id        Disp.A | Volatile Uncorr. ECC |\n",
            "| Fan  Temp  Perf  Pwr:Usage/Cap|         Memory-Usage | GPU-Util  Compute M. |\n",
            "|                               |                      |               MIG M. |\n",
            "|===============================+======================+======================|\n",
            "|   0  Tesla T4            Off  | 00000000:00:04.0 Off |                    0 |\n",
            "| N/A   67C    P0    28W /  70W |      3MiB / 15360MiB |      0%      Default |\n",
            "|                               |                      |                  N/A |\n",
            "+-------------------------------+----------------------+----------------------+\n",
            "                                                                               \n",
            "+-----------------------------------------------------------------------------+\n",
            "| Processes:                                                                  |\n",
            "|  GPU   GI   CI        PID   Type   Process name                  GPU Memory |\n",
            "|        ID   ID                                                   Usage      |\n",
            "|=============================================================================|\n",
            "|  No running processes found                                                 |\n",
            "+-----------------------------------------------------------------------------+\n"
          ]
        }
      ],
      "source": [
        "!nvidia-smi"
      ]
    },
    {
      "cell_type": "markdown",
      "metadata": {
        "id": "tHwilOi_4MV0"
      },
      "source": [
        "Preprocessing steps:\n",
        "\n",
        "- Remove punctuation\n",
        "\n",
        "- Tokenization\n",
        "\n",
        "- Remove stop words\n",
        "\n",
        "- Stemming/Lemmatizing\n",
        "\n",
        "- Vectorization"
      ]
    },
    {
      "cell_type": "code",
      "execution_count": null,
      "metadata": {
        "colab": {
          "base_uri": "https://localhost:8080/"
        },
        "id": "ekOIbgwwyyDJ",
        "outputId": "8d8bc46a-60e6-4265-e77a-83d8a01f3788"
      },
      "outputs": [
        {
          "output_type": "stream",
          "name": "stderr",
          "text": [
            "<>:30: DeprecationWarning: invalid escape sequence \\(\n",
            "<>:30: DeprecationWarning: invalid escape sequence \\(\n",
            "<ipython-input-11-fdc267934988>:30: DeprecationWarning: invalid escape sequence \\(\n",
            "  url_pattern  = re.compile('http[s]?://(?:[a-zA-Z]|[0-9]|[$-_@.&+]|[!*\\(\\),]|(?:%[0-9a-fA-F][0-9a-fA-F]))+')\n"
          ]
        }
      ],
      "source": [
        "def stop_words(text: str):\n",
        "    stop_words = set(stopwords.words('english'))\n",
        "    word_tokens = word_tokenize(text)\n",
        "    filtered_sentence = [w for w in word_tokens if not w.lower() in stop_words]\n",
        "    filtered_sentence = []\n",
        "    for w in word_tokens:\n",
        "        if w not in stop_words:\n",
        "            filtered_sentence.append(w)\n",
        "    return filtered_sentence\n",
        "\n",
        "def remove_accent(text: str):\n",
        "    new_text = unidecode.unidecode(text)\n",
        "    return new_text\n",
        "\n",
        "def remove_punctuation(text: str):\n",
        "    text = \"\".join([c for c in text if c not in string.punctuation])\n",
        "    return text\n",
        "\n",
        "def stemming(text: str):\n",
        "    stemmer = nltk.stem.RSLPStemmer()\n",
        "    new_text = [stemmer.stem(word) for word in text]\n",
        "    return new_text\n",
        "\n",
        "def lemmatization(text: str):\n",
        "    lemmatizer = WordNetLemmatizer()\n",
        "    new_text = [lemmatizer.lemmatize(word) for word in text]\n",
        "    return new_text\n",
        "\n",
        "def remove_url(text: str): \n",
        "    url_pattern  = re.compile('http[s]?://(?:[a-zA-Z]|[0-9]|[$-_@.&+]|[!*\\(\\),]|(?:%[0-9a-fA-F][0-9a-fA-F]))+')\n",
        "    return url_pattern.sub(r'', text)\n",
        "\n",
        "# def remove_emoji(text):\n",
        "#     emoji_pattern = re.compile(\n",
        "#         '['\n",
        "#         u'\\U0001F600-\\U0001F64F'  # emotions\n",
        "#         u'\\U0001F300-\\U0001F5FF'  # symbols & pictographs\n",
        "#         u'\\U0001F680-\\U0001F6FF'  # transport & map symbols\n",
        "#         u'\\U0001F1E0-\\U0001F1FF'  # flags (iOS)\n",
        "#         u'\\U00002702-\\U000027B0'\n",
        "#         u'\\U000024C2-\\U0001F251'\n",
        "#         ']+',\n",
        "#         flags=re.UNICODE)\n",
        "#     return emoji_pattern.sub(r'', text)\n",
        "\n",
        "\n",
        "\n",
        "#provide string with emojis\n",
        "text = \"This sample text contains laughing emojis 😀 😃 😄 😁 😆 😅 😂 🤣\"\n",
        "\n",
        "\n",
        "#print text after removing the emojis from it\n",
        "print(clean(text, no_emoji=True))\n",
        "\n",
        "def remove_html(text):\n",
        "    html = re.compile(r'<.*?>|&([a-z0-9]+|#[0-9]{1,6}|#x[0-9a-f]{1,6});')\n",
        "    return re.sub(html, '', text)"
      ]
    },
    {
      "cell_type": "code",
      "source": [],
      "metadata": {
        "id": "_i4MvRD9UFdn"
      },
      "execution_count": null,
      "outputs": []
    },
    {
      "cell_type": "code",
      "source": [],
      "metadata": {
        "id": "U3tauXscT_aR"
      },
      "execution_count": null,
      "outputs": []
    },
    {
      "cell_type": "code",
      "execution_count": null,
      "metadata": {
        "id": "ouQYWdnpyyGR"
      },
      "outputs": [],
      "source": [
        "train['text'] = train['text'].apply(lambda x: clean(x, no_emoji=True))\n",
        "train['text'] = train['text'].apply(lambda x: remove_html(x))\n",
        "train['text'] = train['text'].apply(lambda x: x.lower())\n",
        "train['text'] = train['text'].apply(lambda x: remove_url(x))\n",
        "train['text'] = train['text'].apply(lambda x: remove_accent(x))\n",
        "train['text'] = train['text'].apply(lambda x: remove_punctuation(x))\n",
        "train['text'] = train['text'].apply(lambda x: stop_words(x))\n",
        "train['text'] = train['text'].apply(lambda x: lemmatization(x))"
      ]
    },
    {
      "cell_type": "code",
      "execution_count": null,
      "metadata": {
        "id": "47qccrMIyyI5"
      },
      "outputs": [],
      "source": [
        "train['text'] = train['text'].apply(lambda x: \" \".join(x))"
      ]
    },
    {
      "cell_type": "code",
      "source": [
        "train.head(30)"
      ],
      "metadata": {
        "colab": {
          "base_uri": "https://localhost:8080/",
          "height": 990
        },
        "id": "ICs1H3QBTz3F",
        "outputId": "118aca94-f5c3-488e-fac9-5bec43fa6b59"
      },
      "execution_count": null,
      "outputs": [
        {
          "output_type": "execute_result",
          "data": {
            "text/plain": [
              "    id keyword location  \\\n",
              "0    1     NaN      NaN   \n",
              "1    4     NaN      NaN   \n",
              "2    5     NaN      NaN   \n",
              "3    6     NaN      NaN   \n",
              "4    7     NaN      NaN   \n",
              "5    8     NaN      NaN   \n",
              "6   10     NaN      NaN   \n",
              "7   13     NaN      NaN   \n",
              "8   14     NaN      NaN   \n",
              "9   15     NaN      NaN   \n",
              "10  16     NaN      NaN   \n",
              "11  17     NaN      NaN   \n",
              "12  18     NaN      NaN   \n",
              "13  19     NaN      NaN   \n",
              "14  20     NaN      NaN   \n",
              "15  23     NaN      NaN   \n",
              "16  24     NaN      NaN   \n",
              "17  25     NaN      NaN   \n",
              "18  26     NaN      NaN   \n",
              "19  28     NaN      NaN   \n",
              "20  31     NaN      NaN   \n",
              "21  32     NaN      NaN   \n",
              "22  33     NaN      NaN   \n",
              "23  34     NaN      NaN   \n",
              "24  36     NaN      NaN   \n",
              "25  37     NaN      NaN   \n",
              "26  38     NaN      NaN   \n",
              "27  39     NaN      NaN   \n",
              "28  40     NaN      NaN   \n",
              "29  41     NaN      NaN   \n",
              "\n",
              "                                                                                             text  \\\n",
              "0                                                      deed reason earthquake may allah forgive u   \n",
              "1                                                           forest fire near la ronge sask canada   \n",
              "2           resident asked shelter place notified officer evacuation shelter place order expected   \n",
              "3                                       13000 people receive wildfire evacuation order california   \n",
              "4                                          got sent photo ruby alaska smoke wildfire pours school   \n",
              "5        rockyfire update california hwy 20 closed direction due lake county fire cafire wildfire   \n",
              "6              flood disaster heavy rain cause flash flooding street manitou colorado spring area   \n",
              "7                                                                       im top hill see fire wood   \n",
              "8                                     there emergency evacuation happening building across street   \n",
              "9                                                                   im afraid tornado coming area   \n",
              "10                                                                three people died heat wave far   \n",
              "11  haha south tampa getting flooded hah wait second live south tampa gon na gon na fvck flooding   \n",
              "12                               raining flooding florida tampabay tampa 18 19 day ive lost count   \n",
              "13                                                                flood bago myanmar arrived bago   \n",
              "14                                                  damage school bus 80 multi car crash breaking   \n",
              "15                                                                                      whats man   \n",
              "16                                                                                     love fruit   \n",
              "17                                                                                  summer lovely   \n",
              "18                                                                                       car fast   \n",
              "19                                                                                goooooooaaaaaal   \n",
              "20                                                                                     ridiculous   \n",
              "21                                                                                    london cool   \n",
              "22                                                                                    love skiing   \n",
              "23                                                                                  wonderful day   \n",
              "24                                                                                       looooool   \n",
              "25                                                                             wayi cant eat shit   \n",
              "26                                                                                  nyc last week   \n",
              "27                                                                                love girlfriend   \n",
              "28                                                                                         cooool   \n",
              "29                                                                                     like pasta   \n",
              "\n",
              "    target  \n",
              "0        1  \n",
              "1        1  \n",
              "2        1  \n",
              "3        1  \n",
              "4        1  \n",
              "5        1  \n",
              "6        1  \n",
              "7        1  \n",
              "8        1  \n",
              "9        1  \n",
              "10       1  \n",
              "11       1  \n",
              "12       1  \n",
              "13       1  \n",
              "14       1  \n",
              "15       0  \n",
              "16       0  \n",
              "17       0  \n",
              "18       0  \n",
              "19       0  \n",
              "20       0  \n",
              "21       0  \n",
              "22       0  \n",
              "23       0  \n",
              "24       0  \n",
              "25       0  \n",
              "26       0  \n",
              "27       0  \n",
              "28       0  \n",
              "29       0  "
            ],
            "text/html": [
              "\n",
              "  <div id=\"df-4bc1501a-db91-41cd-b80a-674e1a400fbc\">\n",
              "    <div class=\"colab-df-container\">\n",
              "      <div>\n",
              "<style scoped>\n",
              "    .dataframe tbody tr th:only-of-type {\n",
              "        vertical-align: middle;\n",
              "    }\n",
              "\n",
              "    .dataframe tbody tr th {\n",
              "        vertical-align: top;\n",
              "    }\n",
              "\n",
              "    .dataframe thead th {\n",
              "        text-align: right;\n",
              "    }\n",
              "</style>\n",
              "<table border=\"1\" class=\"dataframe\">\n",
              "  <thead>\n",
              "    <tr style=\"text-align: right;\">\n",
              "      <th></th>\n",
              "      <th>id</th>\n",
              "      <th>keyword</th>\n",
              "      <th>location</th>\n",
              "      <th>text</th>\n",
              "      <th>target</th>\n",
              "    </tr>\n",
              "  </thead>\n",
              "  <tbody>\n",
              "    <tr>\n",
              "      <th>0</th>\n",
              "      <td>1</td>\n",
              "      <td>NaN</td>\n",
              "      <td>NaN</td>\n",
              "      <td>deed reason earthquake may allah forgive u</td>\n",
              "      <td>1</td>\n",
              "    </tr>\n",
              "    <tr>\n",
              "      <th>1</th>\n",
              "      <td>4</td>\n",
              "      <td>NaN</td>\n",
              "      <td>NaN</td>\n",
              "      <td>forest fire near la ronge sask canada</td>\n",
              "      <td>1</td>\n",
              "    </tr>\n",
              "    <tr>\n",
              "      <th>2</th>\n",
              "      <td>5</td>\n",
              "      <td>NaN</td>\n",
              "      <td>NaN</td>\n",
              "      <td>resident asked shelter place notified officer evacuation shelter place order expected</td>\n",
              "      <td>1</td>\n",
              "    </tr>\n",
              "    <tr>\n",
              "      <th>3</th>\n",
              "      <td>6</td>\n",
              "      <td>NaN</td>\n",
              "      <td>NaN</td>\n",
              "      <td>13000 people receive wildfire evacuation order california</td>\n",
              "      <td>1</td>\n",
              "    </tr>\n",
              "    <tr>\n",
              "      <th>4</th>\n",
              "      <td>7</td>\n",
              "      <td>NaN</td>\n",
              "      <td>NaN</td>\n",
              "      <td>got sent photo ruby alaska smoke wildfire pours school</td>\n",
              "      <td>1</td>\n",
              "    </tr>\n",
              "    <tr>\n",
              "      <th>5</th>\n",
              "      <td>8</td>\n",
              "      <td>NaN</td>\n",
              "      <td>NaN</td>\n",
              "      <td>rockyfire update california hwy 20 closed direction due lake county fire cafire wildfire</td>\n",
              "      <td>1</td>\n",
              "    </tr>\n",
              "    <tr>\n",
              "      <th>6</th>\n",
              "      <td>10</td>\n",
              "      <td>NaN</td>\n",
              "      <td>NaN</td>\n",
              "      <td>flood disaster heavy rain cause flash flooding street manitou colorado spring area</td>\n",
              "      <td>1</td>\n",
              "    </tr>\n",
              "    <tr>\n",
              "      <th>7</th>\n",
              "      <td>13</td>\n",
              "      <td>NaN</td>\n",
              "      <td>NaN</td>\n",
              "      <td>im top hill see fire wood</td>\n",
              "      <td>1</td>\n",
              "    </tr>\n",
              "    <tr>\n",
              "      <th>8</th>\n",
              "      <td>14</td>\n",
              "      <td>NaN</td>\n",
              "      <td>NaN</td>\n",
              "      <td>there emergency evacuation happening building across street</td>\n",
              "      <td>1</td>\n",
              "    </tr>\n",
              "    <tr>\n",
              "      <th>9</th>\n",
              "      <td>15</td>\n",
              "      <td>NaN</td>\n",
              "      <td>NaN</td>\n",
              "      <td>im afraid tornado coming area</td>\n",
              "      <td>1</td>\n",
              "    </tr>\n",
              "    <tr>\n",
              "      <th>10</th>\n",
              "      <td>16</td>\n",
              "      <td>NaN</td>\n",
              "      <td>NaN</td>\n",
              "      <td>three people died heat wave far</td>\n",
              "      <td>1</td>\n",
              "    </tr>\n",
              "    <tr>\n",
              "      <th>11</th>\n",
              "      <td>17</td>\n",
              "      <td>NaN</td>\n",
              "      <td>NaN</td>\n",
              "      <td>haha south tampa getting flooded hah wait second live south tampa gon na gon na fvck flooding</td>\n",
              "      <td>1</td>\n",
              "    </tr>\n",
              "    <tr>\n",
              "      <th>12</th>\n",
              "      <td>18</td>\n",
              "      <td>NaN</td>\n",
              "      <td>NaN</td>\n",
              "      <td>raining flooding florida tampabay tampa 18 19 day ive lost count</td>\n",
              "      <td>1</td>\n",
              "    </tr>\n",
              "    <tr>\n",
              "      <th>13</th>\n",
              "      <td>19</td>\n",
              "      <td>NaN</td>\n",
              "      <td>NaN</td>\n",
              "      <td>flood bago myanmar arrived bago</td>\n",
              "      <td>1</td>\n",
              "    </tr>\n",
              "    <tr>\n",
              "      <th>14</th>\n",
              "      <td>20</td>\n",
              "      <td>NaN</td>\n",
              "      <td>NaN</td>\n",
              "      <td>damage school bus 80 multi car crash breaking</td>\n",
              "      <td>1</td>\n",
              "    </tr>\n",
              "    <tr>\n",
              "      <th>15</th>\n",
              "      <td>23</td>\n",
              "      <td>NaN</td>\n",
              "      <td>NaN</td>\n",
              "      <td>whats man</td>\n",
              "      <td>0</td>\n",
              "    </tr>\n",
              "    <tr>\n",
              "      <th>16</th>\n",
              "      <td>24</td>\n",
              "      <td>NaN</td>\n",
              "      <td>NaN</td>\n",
              "      <td>love fruit</td>\n",
              "      <td>0</td>\n",
              "    </tr>\n",
              "    <tr>\n",
              "      <th>17</th>\n",
              "      <td>25</td>\n",
              "      <td>NaN</td>\n",
              "      <td>NaN</td>\n",
              "      <td>summer lovely</td>\n",
              "      <td>0</td>\n",
              "    </tr>\n",
              "    <tr>\n",
              "      <th>18</th>\n",
              "      <td>26</td>\n",
              "      <td>NaN</td>\n",
              "      <td>NaN</td>\n",
              "      <td>car fast</td>\n",
              "      <td>0</td>\n",
              "    </tr>\n",
              "    <tr>\n",
              "      <th>19</th>\n",
              "      <td>28</td>\n",
              "      <td>NaN</td>\n",
              "      <td>NaN</td>\n",
              "      <td>goooooooaaaaaal</td>\n",
              "      <td>0</td>\n",
              "    </tr>\n",
              "    <tr>\n",
              "      <th>20</th>\n",
              "      <td>31</td>\n",
              "      <td>NaN</td>\n",
              "      <td>NaN</td>\n",
              "      <td>ridiculous</td>\n",
              "      <td>0</td>\n",
              "    </tr>\n",
              "    <tr>\n",
              "      <th>21</th>\n",
              "      <td>32</td>\n",
              "      <td>NaN</td>\n",
              "      <td>NaN</td>\n",
              "      <td>london cool</td>\n",
              "      <td>0</td>\n",
              "    </tr>\n",
              "    <tr>\n",
              "      <th>22</th>\n",
              "      <td>33</td>\n",
              "      <td>NaN</td>\n",
              "      <td>NaN</td>\n",
              "      <td>love skiing</td>\n",
              "      <td>0</td>\n",
              "    </tr>\n",
              "    <tr>\n",
              "      <th>23</th>\n",
              "      <td>34</td>\n",
              "      <td>NaN</td>\n",
              "      <td>NaN</td>\n",
              "      <td>wonderful day</td>\n",
              "      <td>0</td>\n",
              "    </tr>\n",
              "    <tr>\n",
              "      <th>24</th>\n",
              "      <td>36</td>\n",
              "      <td>NaN</td>\n",
              "      <td>NaN</td>\n",
              "      <td>looooool</td>\n",
              "      <td>0</td>\n",
              "    </tr>\n",
              "    <tr>\n",
              "      <th>25</th>\n",
              "      <td>37</td>\n",
              "      <td>NaN</td>\n",
              "      <td>NaN</td>\n",
              "      <td>wayi cant eat shit</td>\n",
              "      <td>0</td>\n",
              "    </tr>\n",
              "    <tr>\n",
              "      <th>26</th>\n",
              "      <td>38</td>\n",
              "      <td>NaN</td>\n",
              "      <td>NaN</td>\n",
              "      <td>nyc last week</td>\n",
              "      <td>0</td>\n",
              "    </tr>\n",
              "    <tr>\n",
              "      <th>27</th>\n",
              "      <td>39</td>\n",
              "      <td>NaN</td>\n",
              "      <td>NaN</td>\n",
              "      <td>love girlfriend</td>\n",
              "      <td>0</td>\n",
              "    </tr>\n",
              "    <tr>\n",
              "      <th>28</th>\n",
              "      <td>40</td>\n",
              "      <td>NaN</td>\n",
              "      <td>NaN</td>\n",
              "      <td>cooool</td>\n",
              "      <td>0</td>\n",
              "    </tr>\n",
              "    <tr>\n",
              "      <th>29</th>\n",
              "      <td>41</td>\n",
              "      <td>NaN</td>\n",
              "      <td>NaN</td>\n",
              "      <td>like pasta</td>\n",
              "      <td>0</td>\n",
              "    </tr>\n",
              "  </tbody>\n",
              "</table>\n",
              "</div>\n",
              "      <button class=\"colab-df-convert\" onclick=\"convertToInteractive('df-4bc1501a-db91-41cd-b80a-674e1a400fbc')\"\n",
              "              title=\"Convert this dataframe to an interactive table.\"\n",
              "              style=\"display:none;\">\n",
              "        \n",
              "  <svg xmlns=\"http://www.w3.org/2000/svg\" height=\"24px\"viewBox=\"0 0 24 24\"\n",
              "       width=\"24px\">\n",
              "    <path d=\"M0 0h24v24H0V0z\" fill=\"none\"/>\n",
              "    <path d=\"M18.56 5.44l.94 2.06.94-2.06 2.06-.94-2.06-.94-.94-2.06-.94 2.06-2.06.94zm-11 1L8.5 8.5l.94-2.06 2.06-.94-2.06-.94L8.5 2.5l-.94 2.06-2.06.94zm10 10l.94 2.06.94-2.06 2.06-.94-2.06-.94-.94-2.06-.94 2.06-2.06.94z\"/><path d=\"M17.41 7.96l-1.37-1.37c-.4-.4-.92-.59-1.43-.59-.52 0-1.04.2-1.43.59L10.3 9.45l-7.72 7.72c-.78.78-.78 2.05 0 2.83L4 21.41c.39.39.9.59 1.41.59.51 0 1.02-.2 1.41-.59l7.78-7.78 2.81-2.81c.8-.78.8-2.07 0-2.86zM5.41 20L4 18.59l7.72-7.72 1.47 1.35L5.41 20z\"/>\n",
              "  </svg>\n",
              "      </button>\n",
              "      \n",
              "  <style>\n",
              "    .colab-df-container {\n",
              "      display:flex;\n",
              "      flex-wrap:wrap;\n",
              "      gap: 12px;\n",
              "    }\n",
              "\n",
              "    .colab-df-convert {\n",
              "      background-color: #E8F0FE;\n",
              "      border: none;\n",
              "      border-radius: 50%;\n",
              "      cursor: pointer;\n",
              "      display: none;\n",
              "      fill: #1967D2;\n",
              "      height: 32px;\n",
              "      padding: 0 0 0 0;\n",
              "      width: 32px;\n",
              "    }\n",
              "\n",
              "    .colab-df-convert:hover {\n",
              "      background-color: #E2EBFA;\n",
              "      box-shadow: 0px 1px 2px rgba(60, 64, 67, 0.3), 0px 1px 3px 1px rgba(60, 64, 67, 0.15);\n",
              "      fill: #174EA6;\n",
              "    }\n",
              "\n",
              "    [theme=dark] .colab-df-convert {\n",
              "      background-color: #3B4455;\n",
              "      fill: #D2E3FC;\n",
              "    }\n",
              "\n",
              "    [theme=dark] .colab-df-convert:hover {\n",
              "      background-color: #434B5C;\n",
              "      box-shadow: 0px 1px 3px 1px rgba(0, 0, 0, 0.15);\n",
              "      filter: drop-shadow(0px 1px 2px rgba(0, 0, 0, 0.3));\n",
              "      fill: #FFFFFF;\n",
              "    }\n",
              "  </style>\n",
              "\n",
              "      <script>\n",
              "        const buttonEl =\n",
              "          document.querySelector('#df-4bc1501a-db91-41cd-b80a-674e1a400fbc button.colab-df-convert');\n",
              "        buttonEl.style.display =\n",
              "          google.colab.kernel.accessAllowed ? 'block' : 'none';\n",
              "\n",
              "        async function convertToInteractive(key) {\n",
              "          const element = document.querySelector('#df-4bc1501a-db91-41cd-b80a-674e1a400fbc');\n",
              "          const dataTable =\n",
              "            await google.colab.kernel.invokeFunction('convertToInteractive',\n",
              "                                                     [key], {});\n",
              "          if (!dataTable) return;\n",
              "\n",
              "          const docLinkHtml = 'Like what you see? Visit the ' +\n",
              "            '<a target=\"_blank\" href=https://colab.research.google.com/notebooks/data_table.ipynb>data table notebook</a>'\n",
              "            + ' to learn more about interactive tables.';\n",
              "          element.innerHTML = '';\n",
              "          dataTable['output_type'] = 'display_data';\n",
              "          await google.colab.output.renderOutput(dataTable, element);\n",
              "          const docLink = document.createElement('div');\n",
              "          docLink.innerHTML = docLinkHtml;\n",
              "          element.appendChild(docLink);\n",
              "        }\n",
              "      </script>\n",
              "    </div>\n",
              "  </div>\n",
              "  "
            ]
          },
          "metadata": {},
          "execution_count": 14
        }
      ]
    },
    {
      "cell_type": "code",
      "execution_count": null,
      "metadata": {
        "id": "bdnwL6x_yyL3"
      },
      "outputs": [],
      "source": [
        "x_train, x_val, y_train, y_val = train_test_split(train.text.values, train.target.values, test_size=0.2, stratify= train.target.values, random_state=1)"
      ]
    },
    {
      "cell_type": "code",
      "execution_count": null,
      "metadata": {
        "colab": {
          "base_uri": "https://localhost:8080/"
        },
        "id": "Gz0IxHK1yyR8",
        "outputId": "3b4564fd-725b-45c9-d763-595cb49a2639"
      },
      "outputs": [
        {
          "output_type": "stream",
          "name": "stdout",
          "text": [
            "Loading configuraiton...\n",
            "Loading tokenizer...\n",
            "Loading model...\n"
          ]
        },
        {
          "output_type": "stream",
          "name": "stderr",
          "text": [
            "Some weights of GPT2ForSequenceClassification were not initialized from the model checkpoint at gpt2 and are newly initialized: ['score.weight']\n",
            "You should probably TRAIN this model on a down-stream task to be able to use it for predictions and inference.\n"
          ]
        },
        {
          "output_type": "stream",
          "name": "stdout",
          "text": [
            "Model loaded to `cuda`\n"
          ]
        }
      ],
      "source": [
        "# Get model configuration.\n",
        "print('Loading configuraiton...')\n",
        "model_config = GPT2Config.from_pretrained(pretrained_model_name_or_path='gpt2', num_labels=2)\n",
        "\n",
        "# Get model's tokenizer.\n",
        "print('Loading tokenizer...')\n",
        "tokenizer = GPT2Tokenizer.from_pretrained(pretrained_model_name_or_path='gpt2')\n",
        "# default to left padding\n",
        "tokenizer.padding_side = \"left\"\n",
        "# Define PAD Token = EOS Token = 50256\n",
        "tokenizer.pad_token = tokenizer.eos_token\n",
        "\n",
        "# Get the actual model.\n",
        "print('Loading model...')\n",
        "model = GPT2ForSequenceClassification.from_pretrained(pretrained_model_name_or_path='gpt2', config=model_config)\n",
        "\n",
        "# resize model embedding to match new tokenizer\n",
        "model.resize_token_embeddings(len(tokenizer))\n",
        "\n",
        "# fix model padding token id\n",
        "model.config.pad_token_id = model.config.eos_token_id\n",
        "\n",
        "# Load model to defined device.\n",
        "model.to(device)\n",
        "print('Model loaded to `%s`'%device)"
      ]
    },
    {
      "cell_type": "code",
      "execution_count": null,
      "metadata": {
        "id": "2i2s6adjyyVM"
      },
      "outputs": [],
      "source": [
        "from transformers import GPT2Tokenizer\n",
        "\n",
        "# Get model's tokenizer.\n",
        "tokenizer = GPT2Tokenizer.from_pretrained(\"gpt2\", unk_token='<|UNK|>')\n",
        "\n",
        "# default to left padding\n",
        "tokenizer.padding_side = \"right\"\n",
        "\n",
        "# Define PAD Token = EOS Token = 50256\n",
        "tokenizer.pad_token = tokenizer.eos_token"
      ]
    },
    {
      "cell_type": "code",
      "execution_count": null,
      "metadata": {
        "id": "IXrQhV1Oyybt"
      },
      "outputs": [],
      "source": [
        "class TweetDataset(Dataset):\n",
        "\n",
        "  def __init__(self, tokenizer, text, name, labels=None):\n",
        "    self.name = name \n",
        "    self.text = text\n",
        "    if self.name == 'train' or self.name == 'val':\n",
        "      self.labels = labels  \n",
        "\n",
        "  def __getitem__(self, idx: int):\n",
        "    self.input_ids = tokenizer(self.text[idx])['input_ids']\n",
        "    self.attention_mask = tokenizer(self.text[idx])['attention_mask']\n",
        "    if self.name == 'train' or self.name == 'val':  \n",
        "        labels = self.labels[idx]\n",
        "        return {\n",
        "          'input_ids': torch.tensor(self.input_ids, dtype=torch.float),\n",
        "          'attention_mask': torch.tensor(self.attention_mask, dtype=torch.float),\n",
        "          'labels': labels}\n",
        "    else:\n",
        "        return {\n",
        "          'input_ids': torch.tensor(self.input_ids, dtype=torch.float),\n",
        "          'attention_mask': torch.tensor(self.attention_mask, dtype=torch.float)}\n",
        "\n",
        "  def __len__(self):\n",
        "    return len(self.text)"
      ]
    },
    {
      "cell_type": "code",
      "execution_count": null,
      "metadata": {
        "id": "OsgPGidJWJZK"
      },
      "outputs": [],
      "source": [
        "batch_size=32\n",
        "test_batch_size=64\n",
        "max_length=50"
      ]
    },
    {
      "cell_type": "code",
      "execution_count": null,
      "metadata": {
        "id": "5OOWBhojYsVn"
      },
      "outputs": [],
      "source": [
        "dataset_train = TweetDataset(tokenizer, x_train, name='train', labels=y_train)\n",
        "dataset_val = TweetDataset(tokenizer, x_val, name='val', labels=y_val)\n",
        "dataset_test = TweetDataset(tokenizer, test.text.values, name='test')"
      ]
    },
    {
      "cell_type": "code",
      "execution_count": null,
      "metadata": {
        "id": "UU9J2XNLyyhe"
      },
      "outputs": [],
      "source": [
        "datacollator = DataCollatorWithPadding(tokenizer=tokenizer, \n",
        "                                       padding=True,\n",
        "                                       return_tensors='pt')"
      ]
    },
    {
      "cell_type": "code",
      "execution_count": null,
      "metadata": {
        "id": "_mX7nMDgUroh"
      },
      "outputs": [],
      "source": [
        "# Move pytorch dataset into dataloader.\n",
        "train_dataloader = DataLoader(dataset=dataset_train, batch_size=batch_size, shuffle=True, collate_fn=datacollator)\n",
        "val_dataloader = DataLoader(dataset=dataset_val, batch_size=batch_size, shuffle=True, collate_fn=datacollator)\n",
        "test_dataloader = DataLoader(dataset=dataset_test, batch_size=test_batch_size, shuffle=True, collate_fn=datacollator)"
      ]
    },
    {
      "cell_type": "code",
      "execution_count": null,
      "metadata": {
        "id": "5nSJqny2yp2j"
      },
      "outputs": [],
      "source": [
        "def loss_fn(outputs, targets):\n",
        "    return nn.BCEWithLogitsLoss()(outputs, targets).view(-1, 1)"
      ]
    },
    {
      "cell_type": "code",
      "execution_count": null,
      "metadata": {
        "id": "QiU1n2ddyp47"
      },
      "outputs": [],
      "source": [
        "optimizer = torch.optim.AdamW(\n",
        "    model.parameters(),\n",
        "    lr=3e-5,\n",
        "    eps=1e-8)"
      ]
    },
    {
      "cell_type": "code",
      "execution_count": null,
      "metadata": {
        "id": "9L6Np8bPyp7W"
      },
      "outputs": [],
      "source": [
        "epochs = 5"
      ]
    },
    {
      "cell_type": "code",
      "execution_count": null,
      "metadata": {
        "id": "i2c9AIwwjM1s"
      },
      "outputs": [],
      "source": [
        "# Total number of training steps is number of batches * number of epochs.\n",
        "# `train_dataloader` contains batched data so `len(train_dataloader)` gives \n",
        "# us the number of batches.\n",
        "total_steps = len(train_dataloader) * epochs\n",
        "\n",
        "# Create the learning rate scheduler.\n",
        "scheduler = get_linear_schedule_with_warmup(optimizer, \n",
        "                                            num_warmup_steps = 0, # Default value in run_glue.py\n",
        "                                            num_training_steps = total_steps)"
      ]
    },
    {
      "cell_type": "code",
      "execution_count": null,
      "metadata": {
        "id": "sD5dI7YDyyl8"
      },
      "outputs": [],
      "source": [
        "def train(dataloader, optimizer, scheduler, device):\n",
        "\n",
        "  # https://huggingface.co/docs/transformers/model_doc/gpt2\n",
        "\n",
        "  # Defining the training mode\n",
        "  model.train()\n",
        "\n",
        "  # List to store all losses\n",
        "  training_losses = []\n",
        "  mean_training_losses = []\n",
        "  \n",
        "  # Empty list to store the true label\n",
        "  true_labels = []\n",
        "\n",
        "  # Empty list to store the prediction labels\n",
        "  predictions_labels = []\n",
        "\n",
        "  # Defining the start time\n",
        "  start = time.time()\n",
        "  \n",
        "  # Loop over the train_loader\n",
        "  for batch in dataloader:\n",
        "\n",
        "      # Add original labels - use later for evaluation.\n",
        "      true_labels += batch['labels'].numpy().flatten().tolist()\n",
        "\n",
        "      # data is a list of three tensors where the element 0 is input_ids, element 1 is attention_mask and element 2 are the targets\n",
        "      batch = {k:v.type(torch.long).to(device) for k,v in batch.items()}\n",
        "      \n",
        "      # Clean the previous weights to calculate the new gradient\n",
        "      optimizer.zero_grad() \n",
        "\n",
        "      # Calculation the outputs\n",
        "      outputs = model(**batch)\n",
        "\n",
        "      # Calculating the loss (the error)\n",
        "      loss, logits = outputs.loss, outputs.logits\n",
        "\n",
        "      # Backpropagation\n",
        "      loss.backward()\n",
        "      \n",
        "      # Weights adjustment\n",
        "      optimizer.step()\n",
        "      \n",
        "      # Update the learning rate.\n",
        "      scheduler.step()\n",
        "\n",
        "      # Appending the loss into the list\n",
        "      training_losses.append(loss.item())\n",
        "      \n",
        "      epoch_loss = np.asarray(training_losses)\n",
        "      mean_training_losses.append(epoch_loss.mean())\n",
        "\n",
        "      # Convert these logits to list of predicted labels values.\n",
        "      predictions_labels += logits.argmax(axis=-1).flatten().tolist()\n",
        "\n",
        "      # Defining the final time\n",
        "      end = time.time()\n",
        "\n",
        "  return true_labels, predictions_labels, epoch_loss.mean(), epoch_loss.std(), end-start\n",
        "\n",
        "\n",
        "def validation(dataloader, device, mode='val'):\n",
        "\n",
        "  # https://huggingface.co/docs/transformers/model_doc/gpt2\n",
        "\n",
        "  # Defining the training mode\n",
        "  model.eval()\n",
        "\n",
        "  # List to store all losses\n",
        "  validation_losses = []\n",
        "  mean_validation_losses = []\n",
        "\n",
        "  # Empty list to store the true label\n",
        "  true_labels = []\n",
        "\n",
        "  # Empty list to store the prediction labels\n",
        "  predictions_labels = []\n",
        "\n",
        "  # Defining the start time\n",
        "  start = time.time()\n",
        "  \n",
        "  # Loop over the train_loader\n",
        "  for batch in dataloader:\n",
        "\n",
        "      # Add original labels - use later for evaluation.\n",
        "      true_labels += batch['labels'].numpy().flatten().tolist()\n",
        "\n",
        "      # data is a list of three tensors where the element 0 is input_ids, element 1 is attention_mask and element 2 are the targets\n",
        "      batch = {k:v.type(torch.long).to(device) for k,v in batch.items()}\n",
        "\n",
        "      # Telling the model not to compute or store gradients, saving memory and\n",
        "      # speeding up validation\n",
        "      with torch.no_grad():   \n",
        "\n",
        "        # Calculation the outputs\n",
        "        outputs = model(**batch)\n",
        "  \n",
        "        # Calculating the loss (the error)\n",
        "        loss, logits = outputs.loss, outputs.logits\n",
        "\n",
        "        # Appending the loss into the list\n",
        "        validation_losses.append(loss.item())\n",
        "        \n",
        "        epoch_loss = np.asarray(validation_losses)\n",
        "        mean_validation_losses.append(epoch_loss.mean())\n",
        "\n",
        "        # get predicitons to list\n",
        "        predict_content = logits.argmax(axis=-1).flatten().tolist()\n",
        "\n",
        "        # update list\n",
        "        predictions_labels += predict_content\n",
        "\n",
        "  # Defining the final time\n",
        "  end = time.time()\n",
        "\n",
        "  return true_labels, predictions_labels, epoch_loss.mean(), epoch_loss.std(), end-start\n",
        "\n",
        "\n",
        "def inference(dataloader, device):\n",
        "\n",
        "  # https://huggingface.co/docs/transformers/model_doc/gpt2\n",
        "\n",
        "  # Defining the training mode\n",
        "  model.eval()\n",
        "\n",
        "  # Empty list to store the prediction labels\n",
        "  predictions_labels = []\n",
        "\n",
        "  # Loop over the train_loader\n",
        "  for batch in dataloader:\n",
        "  \n",
        "    # data is a list of three tensors where the element 0 is input_ids, element 1 is attention_mask and element 2 are the targets\n",
        "    batch = {k:v.type(torch.long).to(device) for k,v in batch.items()}\n",
        "\n",
        "    # Telling the model not to compute or store gradients, saving memory and\n",
        "    # speeding up validation\n",
        "    with torch.no_grad():   \n",
        "\n",
        "      # Calculation the outputs\n",
        "      outputs = model(**batch)\n",
        "\n",
        "      # Calculating the loss (the error)\n",
        "      loss, logits = outputs.loss, outputs.logits\n",
        "\n",
        "      # get predicitons to list\n",
        "      predict_content = logits.argmax(axis=-1).flatten().tolist()\n",
        "\n",
        "      # update list\n",
        "    predictions_labels.append(predict_content)\n",
        "\n",
        "  return predictions_labels"
      ]
    },
    {
      "cell_type": "markdown",
      "metadata": {
        "id": "WA2TjoIpmRP3"
      },
      "source": [
        "## Training and Validation"
      ]
    },
    {
      "cell_type": "code",
      "execution_count": null,
      "metadata": {
        "colab": {
          "base_uri": "https://localhost:8080/"
        },
        "id": "CHNp6yjjws3h",
        "outputId": "2b3c6f74-6484-4dde-fd62-6ddb9febe025"
      },
      "outputs": [
        {
          "output_type": "stream",
          "name": "stdout",
          "text": [
            "####################################################################################################\n",
            "Epoch 1, Training loss: 0.5916 +/- 0.2758, Time: 49.74\n",
            "\n",
            "----------------------------------------------------------------------------------------------------\n",
            "Epoch 1, Validation loss: 0.4141 +/- 0.1069, Time: 2.88\n",
            "\n",
            "####################################################################################################\n",
            "Epoch 2, Training loss: 0.4171 +/- 0.1050, Time: 40.60\n",
            "\n",
            "----------------------------------------------------------------------------------------------------\n",
            "Epoch 2, Validation loss: 0.4115 +/- 0.1000, Time: 2.75\n",
            "\n",
            "####################################################################################################\n",
            "Epoch 3, Training loss: 0.3616 +/- 0.0943, Time: 40.93\n",
            "\n",
            "----------------------------------------------------------------------------------------------------\n",
            "Epoch 3, Validation loss: 0.4114 +/- 0.1434, Time: 2.80\n",
            "\n",
            "####################################################################################################\n",
            "Epoch 4, Training loss: 0.3200 +/- 0.0981, Time: 42.13\n",
            "\n",
            "----------------------------------------------------------------------------------------------------\n",
            "Epoch 4, Validation loss: 0.4318 +/- 0.1207, Time: 3.13\n",
            "\n",
            "####################################################################################################\n",
            "Epoch 5, Training loss: 0.2869 +/- 0.0967, Time: 39.53\n",
            "\n",
            "----------------------------------------------------------------------------------------------------\n",
            "Epoch 5, Validation loss: 0.4418 +/- 0.1605, Time: 2.95\n",
            "\n",
            "####################################################################################################\n"
          ]
        }
      ],
      "source": [
        "print('#'*100)\n",
        "\n",
        "# Store the average loss after each epoch so we can plot them.\n",
        "all_loss = {'train_loss':[], 'val_loss':[]}\n",
        "all_acc = {'train_acc':[], 'val_acc':[]}\n",
        "\n",
        "for epoch in range(epochs):\n",
        "\n",
        "  train_true_labels, train_predictions_labels, mean_train_epoch_loss, std_train_epoch_loss, training_time = train(train_dataloader, optimizer, scheduler, device)\n",
        "  train_acc = accuracy_score(train_true_labels, train_predictions_labels)\n",
        "  print('Epoch %d, Training loss: %.4f +/- %.4f, Time: %.2f\\n' % (epoch+1, mean_train_epoch_loss, std_train_epoch_loss, training_time))\n",
        "  print('-'*100)\n",
        "  val_true_labels, val_predictions_labels, mean_val_epoch_loss, std_val_epoch_loss, val_time = validation(val_dataloader, device)\n",
        "  val_acc = accuracy_score(val_true_labels, val_predictions_labels)\n",
        "  print('Epoch %d, Validation loss: %.4f +/- %.4f, Time: %.2f\\n' % (epoch+1, mean_val_epoch_loss, std_val_epoch_loss, val_time))\n",
        "\n",
        "  # Store the loss value for plotting the learning curve.\n",
        "  all_loss['train_loss'].append(mean_train_epoch_loss)\n",
        "  all_loss['val_loss'].append(mean_val_epoch_loss)\n",
        "  all_acc['train_acc'].append(train_acc)\n",
        "  all_acc['val_acc'].append(val_acc)\n",
        "  print('#'*100)"
      ]
    },
    {
      "cell_type": "code",
      "execution_count": null,
      "metadata": {
        "id": "UHadPhy9uD02",
        "colab": {
          "base_uri": "https://localhost:8080/",
          "height": 483
        },
        "outputId": "f54bb2d5-9b3e-47ca-ff83-3442ee2463e6"
      },
      "outputs": [
        {
          "output_type": "display_data",
          "data": {
            "text/plain": [
              "<Figure size 1440x576 with 1 Axes>"
            ],
            "image/png": "[encoded data removed]"
          },
          "metadata": {
            "needs_background": "light"
          }
        }
      ],
      "source": [
        "plt.figure(figsize=(20,8))\n",
        "plt.plot(all_loss['train_loss'])\n",
        "plt.plot(all_loss['val_loss'])\n",
        "plt.show()"
      ]
    },
    {
      "cell_type": "code",
      "execution_count": null,
      "metadata": {
        "id": "P5S97CiIvss4",
        "colab": {
          "base_uri": "https://localhost:8080/",
          "height": 483
        },
        "outputId": "98607f80-2944-4ba9-9800-1dff29f4735b"
      },
      "outputs": [
        {
          "output_type": "display_data",
          "data": {
            "text/plain": [
              "<Figure size 1440x576 with 1 Axes>"
            ],
            "image/png": "[encoded data removed]"
          },
          "metadata": {
            "needs_background": "light"
          }
        }
      ],
      "source": [
        "plt.figure(figsize=(20,8))\n",
        "plt.plot(all_acc['train_acc'])\n",
        "plt.plot(all_acc['val_acc'])\n",
        "plt.show()"
      ]
    },
    {
      "cell_type": "code",
      "execution_count": null,
      "metadata": {
        "id": "23ZYVHzTQ73b",
        "colab": {
          "base_uri": "https://localhost:8080/"
        },
        "outputId": "18748edd-3d10-4596-eb53-14b15f18a0ad"
      },
      "outputs": [
        {
          "output_type": "stream",
          "name": "stdout",
          "text": [
            "              precision    recall  f1-score   support\n",
            "\n",
            "           0       0.83      0.87      0.85       869\n",
            "           1       0.81      0.76      0.79       654\n",
            "\n",
            "    accuracy                           0.82      1523\n",
            "   macro avg       0.82      0.81      0.82      1523\n",
            "weighted avg       0.82      0.82      0.82      1523\n",
            "\n"
          ]
        }
      ],
      "source": [
        "print(classification_report(val_true_labels, val_predictions_labels))"
      ]
    },
    {
      "cell_type": "code",
      "execution_count": null,
      "metadata": {
        "id": "rnTmJES_RNRM",
        "colab": {
          "base_uri": "https://localhost:8080/",
          "height": 421
        },
        "outputId": "047c194a-8145-4786-fc34-a234dea77991"
      },
      "outputs": [
        {
          "output_type": "stream",
          "name": "stdout",
          "text": [
            "Confusion matrix, without normalization\n"
          ]
        },
        {
          "output_type": "display_data",
          "data": {
            "text/plain": [
              "<Figure size 1944x432 with 2 Axes>"
            ],
            "image/png": "[encoded data removed]"
          },
          "metadata": {}
        }
      ],
      "source": [
        "# Plot confusion matrix.\n",
        "plot_confusion_matrix(y_true=val_true_labels, y_pred=val_predictions_labels, \n",
        "                      classes=[0,1], #normalize=True, \n",
        "                      magnify=0.1,\n",
        "                      );"
      ]
    },
    {
      "cell_type": "markdown",
      "metadata": {
        "id": "h-FhzPXbqPfA"
      },
      "source": [
        "## Evaluate"
      ]
    },
    {
      "cell_type": "code",
      "execution_count": null,
      "metadata": {
        "id": "oNjNOAyPOciG"
      },
      "outputs": [],
      "source": [
        "def create_submission(predictions: list):\n",
        "  last_tensor = pd.DataFrame(torch.tensor(predictions[-1], dtype=torch.int64).flatten())\n",
        "  all_tensors = pd.DataFrame(torch.tensor(predictions[:-1], dtype=torch.int64).flatten())\n",
        "  predictions_ = pd.concat([all_tensors, last_tensor])\n",
        "  return predictions_"
      ]
    },
    {
      "cell_type": "code",
      "execution_count": null,
      "metadata": {
        "id": "d76REcxews6F"
      },
      "outputs": [],
      "source": [
        "# Get prediction form model on validation data. This is where you should use\n",
        "# your test data.\n",
        "test_predictions_labels = inference(test_dataloader, device)"
      ]
    },
    {
      "cell_type": "code",
      "execution_count": null,
      "metadata": {
        "id": "dL5GspY8O03I"
      },
      "outputs": [],
      "source": [
        "predictions_df = create_submission(test_predictions_labels)"
      ]
    },
    {
      "cell_type": "code",
      "execution_count": null,
      "metadata": {
        "id": "_j_2-whCKvbR"
      },
      "outputs": [],
      "source": [
        "submit = pd.read_csv('/content/drive/MyDrive/disaster_tweets/sample_submission.csv')\n",
        "submit['target'] = list(predictions_df[0])\n",
        "\n",
        "submit.to_csv('submission.csv', index=False)"
      ]
    },
    {
      "cell_type": "code",
      "execution_count": null,
      "metadata": {
        "id": "N-uOsxlaws8e",
        "colab": {
          "base_uri": "https://localhost:8080/",
          "height": 423
        },
        "outputId": "7a3e4715-d477-492c-923e-c5e95fc298f0"
      },
      "outputs": [
        {
          "output_type": "execute_result",
          "data": {
            "text/plain": [
              "         id  target\n",
              "0         0       0\n",
              "1         2       0\n",
              "2         3       0\n",
              "3         9       0\n",
              "4        11       0\n",
              "...     ...     ...\n",
              "3258  10861       0\n",
              "3259  10865       0\n",
              "3260  10868       0\n",
              "3261  10874       0\n",
              "3262  10875       0\n",
              "\n",
              "[3263 rows x 2 columns]"
            ],
            "text/html": [
              "\n",
              "  <div id=\"df-3ef05540-12a3-4e04-831a-5c04c2bbe449\">\n",
              "    <div class=\"colab-df-container\">\n",
              "      <div>\n",
              "<style scoped>\n",
              "    .dataframe tbody tr th:only-of-type {\n",
              "        vertical-align: middle;\n",
              "    }\n",
              "\n",
              "    .dataframe tbody tr th {\n",
              "        vertical-align: top;\n",
              "    }\n",
              "\n",
              "    .dataframe thead th {\n",
              "        text-align: right;\n",
              "    }\n",
              "</style>\n",
              "<table border=\"1\" class=\"dataframe\">\n",
              "  <thead>\n",
              "    <tr style=\"text-align: right;\">\n",
              "      <th></th>\n",
              "      <th>id</th>\n",
              "      <th>target</th>\n",
              "    </tr>\n",
              "  </thead>\n",
              "  <tbody>\n",
              "    <tr>\n",
              "      <th>0</th>\n",
              "      <td>0</td>\n",
              "      <td>0</td>\n",
              "    </tr>\n",
              "    <tr>\n",
              "      <th>1</th>\n",
              "      <td>2</td>\n",
              "      <td>0</td>\n",
              "    </tr>\n",
              "    <tr>\n",
              "      <th>2</th>\n",
              "      <td>3</td>\n",
              "      <td>0</td>\n",
              "    </tr>\n",
              "    <tr>\n",
              "      <th>3</th>\n",
              "      <td>9</td>\n",
              "      <td>0</td>\n",
              "    </tr>\n",
              "    <tr>\n",
              "      <th>4</th>\n",
              "      <td>11</td>\n",
              "      <td>0</td>\n",
              "    </tr>\n",
              "    <tr>\n",
              "      <th>...</th>\n",
              "      <td>...</td>\n",
              "      <td>...</td>\n",
              "    </tr>\n",
              "    <tr>\n",
              "      <th>3258</th>\n",
              "      <td>10861</td>\n",
              "      <td>0</td>\n",
              "    </tr>\n",
              "    <tr>\n",
              "      <th>3259</th>\n",
              "      <td>10865</td>\n",
              "      <td>0</td>\n",
              "    </tr>\n",
              "    <tr>\n",
              "      <th>3260</th>\n",
              "      <td>10868</td>\n",
              "      <td>0</td>\n",
              "    </tr>\n",
              "    <tr>\n",
              "      <th>3261</th>\n",
              "      <td>10874</td>\n",
              "      <td>0</td>\n",
              "    </tr>\n",
              "    <tr>\n",
              "      <th>3262</th>\n",
              "      <td>10875</td>\n",
              "      <td>0</td>\n",
              "    </tr>\n",
              "  </tbody>\n",
              "</table>\n",
              "<p>3263 rows × 2 columns</p>\n",
              "</div>\n",
              "      <button class=\"colab-df-convert\" onclick=\"convertToInteractive('df-3ef05540-12a3-4e04-831a-5c04c2bbe449')\"\n",
              "              title=\"Convert this dataframe to an interactive table.\"\n",
              "              style=\"display:none;\">\n",
              "        \n",
              "  <svg xmlns=\"http://www.w3.org/2000/svg\" height=\"24px\"viewBox=\"0 0 24 24\"\n",
              "       width=\"24px\">\n",
              "    <path d=\"M0 0h24v24H0V0z\" fill=\"none\"/>\n",
              "    <path d=\"M18.56 5.44l.94 2.06.94-2.06 2.06-.94-2.06-.94-.94-2.06-.94 2.06-2.06.94zm-11 1L8.5 8.5l.94-2.06 2.06-.94-2.06-.94L8.5 2.5l-.94 2.06-2.06.94zm10 10l.94 2.06.94-2.06 2.06-.94-2.06-.94-.94-2.06-.94 2.06-2.06.94z\"/><path d=\"M17.41 7.96l-1.37-1.37c-.4-.4-.92-.59-1.43-.59-.52 0-1.04.2-1.43.59L10.3 9.45l-7.72 7.72c-.78.78-.78 2.05 0 2.83L4 21.41c.39.39.9.59 1.41.59.51 0 1.02-.2 1.41-.59l7.78-7.78 2.81-2.81c.8-.78.8-2.07 0-2.86zM5.41 20L4 18.59l7.72-7.72 1.47 1.35L5.41 20z\"/>\n",
              "  </svg>\n",
              "      </button>\n",
              "      \n",
              "  <style>\n",
              "    .colab-df-container {\n",
              "      display:flex;\n",
              "      flex-wrap:wrap;\n",
              "      gap: 12px;\n",
              "    }\n",
              "\n",
              "    .colab-df-convert {\n",
              "      background-color: #E8F0FE;\n",
              "      border: none;\n",
              "      border-radius: 50%;\n",
              "      cursor: pointer;\n",
              "      display: none;\n",
              "      fill: #1967D2;\n",
              "      height: 32px;\n",
              "      padding: 0 0 0 0;\n",
              "      width: 32px;\n",
              "    }\n",
              "\n",
              "    .colab-df-convert:hover {\n",
              "      background-color: #E2EBFA;\n",
              "      box-shadow: 0px 1px 2px rgba(60, 64, 67, 0.3), 0px 1px 3px 1px rgba(60, 64, 67, 0.15);\n",
              "      fill: #174EA6;\n",
              "    }\n",
              "\n",
              "    [theme=dark] .colab-df-convert {\n",
              "      background-color: #3B4455;\n",
              "      fill: #D2E3FC;\n",
              "    }\n",
              "\n",
              "    [theme=dark] .colab-df-convert:hover {\n",
              "      background-color: #434B5C;\n",
              "      box-shadow: 0px 1px 3px 1px rgba(0, 0, 0, 0.15);\n",
              "      filter: drop-shadow(0px 1px 2px rgba(0, 0, 0, 0.3));\n",
              "      fill: #FFFFFF;\n",
              "    }\n",
              "  </style>\n",
              "\n",
              "      <script>\n",
              "        const buttonEl =\n",
              "          document.querySelector('#df-3ef05540-12a3-4e04-831a-5c04c2bbe449 button.colab-df-convert');\n",
              "        buttonEl.style.display =\n",
              "          google.colab.kernel.accessAllowed ? 'block' : 'none';\n",
              "\n",
              "        async function convertToInteractive(key) {\n",
              "          const element = document.querySelector('#df-3ef05540-12a3-4e04-831a-5c04c2bbe449');\n",
              "          const dataTable =\n",
              "            await google.colab.kernel.invokeFunction('convertToInteractive',\n",
              "                                                     [key], {});\n",
              "          if (!dataTable) return;\n",
              "\n",
              "          const docLinkHtml = 'Like what you see? Visit the ' +\n",
              "            '<a target=\"_blank\" href=https://colab.research.google.com/notebooks/data_table.ipynb>data table notebook</a>'\n",
              "            + ' to learn more about interactive tables.';\n",
              "          element.innerHTML = '';\n",
              "          dataTable['output_type'] = 'display_data';\n",
              "          await google.colab.output.renderOutput(dataTable, element);\n",
              "          const docLink = document.createElement('div');\n",
              "          docLink.innerHTML = docLinkHtml;\n",
              "          element.appendChild(docLink);\n",
              "        }\n",
              "      </script>\n",
              "    </div>\n",
              "  </div>\n",
              "  "
            ]
          },
          "metadata": {},
          "execution_count": 37
        }
      ],
      "source": [
        "submit"
      ]
    },
    {
      "cell_type": "code",
      "execution_count": null,
      "metadata": {
        "id": "T_PH-lT9yywr"
      },
      "outputs": [],
      "source": []
    },
    {
      "cell_type": "code",
      "execution_count": null,
      "metadata": {
        "id": "SbGU7OFjyyyt"
      },
      "outputs": [],
      "source": []
    },
    {
      "cell_type": "markdown",
      "metadata": {
        "id": "jvqacy3oenUS"
      },
      "source": [
        "# **Pytorch commands**\n",
        "\n",
        "view - returns a new tensor with the same data as the self tensor but of a different shape. The input is the shape\n",
        "\n",
        "___"
      ]
    },
    {
      "cell_type": "markdown",
      "metadata": {
        "id": "FA2IpOrlyCEw"
      },
      "source": [
        "#**What are logits in Pytorch?**\n",
        "**Logits:** logits refer to the raw, unscaled predictions that a model generates before the final activation function is applied. Logits are the outputs of the last linear layer of a neural network before the activation function. They can be seen as the raw scores or confidence values for each class in a multi-class classification problem.\n",
        "  The purpose of the activation function is to map the logits to a probability distribution over the classes, so that the final prediction can be made based on these probabilities. Common activation functions used for this purpose are softmax and sigmoid.\n",
        "\n",
        "#**Difference between Adam and AdamW**\n",
        "Adam and AdamW are two popular optimization algorithms in PyTorch for training deep neural networks. The choice between these two optimizers often depends on the specific requirements of the problem and the model being trained.\n",
        "\n",
        "Adam (Adaptive Moment Estimation) is a variant of stochastic gradient descent that uses moving averages of the parameters to provide a running estimate of the second raw moments of the gradients; the gradient is divided by the root of the second moment. This helps the optimizer to converge faster and more robustly than regular stochastic gradient descent.\n",
        "\n",
        "AdamW (Adam with Weight Decay Regularization) is a modification of the Adam optimizer that includes weight decay regularization. The weight decay regularization helps to prevent overfitting and improve generalization performance by penalizing large weights in the model. The AdamW optimizer performs weight decay as a separate operation from the update of the moving averages, which makes it more computationally efficient.\n",
        "\n",
        "In general, Adam is a good choice for most problems and is the default optimizer used in many popular deep learning libraries. AdamW is a good choice when weight decay regularization is desired and the computational efficiency of the optimizer is a concern.\n",
        "\n",
        "It is important to keep in mind that both optimizers require hyperparameter tuning, such as the learning rate, to achieve good performance. You should experiment with different values of the hyperparameters to find the best combination for your specific problem.\n",
        "\n",
        "# **Preprocessing**\n",
        "it's recommended to perform pre-processing steps such as stopword removal, punctuation removal, and accent normalization before feeding the text data into GPT-2 or any other NLP model. These steps can help to simplify the input data and reduce the amount of noise, making it easier for the model to learn meaningful patterns in the data.\n",
        "\n",
        "However, the specific pre-processing steps you should take will depend on your specific task and the data you are working with. It's always a good idea to experiment with different pre-processing steps and evaluate their impact on the model's performance to determine the best approach for your task.\n",
        "\n",
        "# **Scheduler**\n",
        "\n",
        "A scheduler in PyTorch is used to adjust the learning rate during the training of a deep learning model, such as a NLP model. The learning rate is a hyperparameter that determines the step size at which the optimizer updates the model's parameters. The learning rate is usually set to a high value initially and then decreased as the training progresses to prevent the model from oscillating and overshooting the optimal solution.\n",
        "\n",
        "A scheduler takes as input the optimizer and the training parameters, such as the number of epochs, and adjusts the learning rate at each training step or epoch. There are several types of schedulers available in PyTorch, including the StepLR scheduler, which decreases the learning rate by a factor at specified intervals, the MultiStepLR scheduler, which decreases the learning rate by a factor at specified milestones, and the CosineAnnealingLR scheduler, which adjusts the learning rate following a cosine function.\n",
        "\n",
        "# **Epochs**\n",
        "\n",
        "Inference\n",
        "\n",
        "The number of epochs required for inference in PyTorch depends on the specific task and model you are using. In general, you only need to run your model for one epoch during inference, as the goal is to make predictions on new, unseen data, rather than to train the model to improve its accuracy. However, in some cases, such as when making predictions on time series data, you may need to run the model for multiple epochs in order to make accurate predictions. Ultimately, the best number of epochs for inference will depend on the characteristics of your data and the specific requirements of your application.\n",
        "\n",
        "Training\n",
        "\n",
        "The number of epochs to train a model in PyTorch depends on several factors such as the size of your dataset, the complexity of the model, and the desired level of accuracy.\n",
        "\n",
        "Typically, training a model for too few epochs can result in underfitting, where the model has not learned the underlying patterns in the data, whereas training for too many epochs can result in overfitting, where the model has memorized the training data and is not generalizable to new, unseen data.\n",
        "\n",
        "A good starting point for finding the optimal number of epochs is to train the model for a few tens or hundreds of epochs and monitor the training and validation loss. If the validation loss stops decreasing while the training loss continues to decrease, the model is overfitting, and you should stop training. If the validation loss continues to decrease, you can keep training for more epochs.\n",
        "\n",
        "You can also use techniques such as early stopping, which automatically stops training when the validation loss stops improving, to determine the optimal number of epochs.\n",
        "\n",
        "In general, there is no fixed number of epochs that works for all models, and finding the optimal number of epochs is an experimental process that may require some trial and error."
      ]
    },
    {
      "cell_type": "code",
      "execution_count": null,
      "metadata": {
        "id": "tryorTHkC5rV"
      },
      "outputs": [],
      "source": []
    },
    {
      "cell_type": "markdown",
      "metadata": {
        "id": "trtE49J5C4T_"
      },
      "source": [
        "Reference\n",
        "\n",
        "https://huggingface.co/docs/transformers/model_doc/gpt2\n",
        "\n",
        "https://www.youtube.com/watch?v=-RPeakdlHYo"
      ]
    },
    {
      "cell_type": "code",
      "execution_count": null,
      "metadata": {
        "id": "ToFs2kW0N7Gx"
      },
      "outputs": [],
      "source": []
    }
  ],
  "metadata": {
    "accelerator": "GPU",
    "colab": {
      "provenance": []
    },
    "gpuClass": "standard",
    "kernelspec": {
      "display_name": "Python 3",
      "name": "python3"
    },
    "language_info": {
      "name": "python"
    }
  },
  "nbformat": 4,
  "nbformat_minor": 0
}